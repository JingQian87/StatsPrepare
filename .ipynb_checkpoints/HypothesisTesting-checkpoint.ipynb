{
 "cells": [
  {
   "cell_type": "markdown",
   "metadata": {},
   "source": [
    "# Hypothesis Testing\n",
    "\n",
    "**Six steps**:\n",
    "1. Determine type of test and state the 2 **opposing** hypotheses\n",
    "2. Determine how large a difference is considered significant (state the level of significance)\n",
    "3. Determine the sample size needed and gather data\n",
    "4. Compute samples and test statistics\n",
    "5. Compute P value\n",
    "6. Make decision or conclusion"
   ]
  },
  {
   "cell_type": "markdown",
   "metadata": {},
   "source": [
    "## Step 1. Type of Test and State the 2 Hypotheses\n",
    "\n",
    "### Two opposing hypo:\n",
    "* Null Hypo $H_0$ (same, equal, no diff, no change)\n",
    "* Alternate Hypo $H_a$ (complement of $H_0$)\n",
    "\n",
    "### 每次都去test $H_0$， 而不是$H_a$.\n",
    "* **Accept $H_0$**: Do not reject $H_0$, difference is *not statistically significant*, likely due to *sampling error*. *Test is not significant*\n",
    "* **Reject $H_0$**: 尽管未检验$H_a$, 推定为true. Difference is statistically significant. Test is significant.\n",
    "\n",
    "### 3 types of tests:\n",
    "1). Right-tailed test ($\\ge$) <br>\n",
    "2). Left-tailed test ($\\le$) <br>\n",
    "3). Two-tailed test($\\neq$) \n",
    "\n",
    "* 1 and 2 are called one-tailed tests.\n",
    "* Type of test is stated in $H_a$.\n",
    "* Type of test indicates what the researcher suspects or wants to show.\n",
    "* Use two-tailed if not sure to use what.\n",
    "\n",
    "给一个critical value, to reject $H_0$."
   ]
  },
  {
   "cell_type": "markdown",
   "metadata": {},
   "source": [
    "## Step 2. Determine the Level of Significance\n",
    "### Level of Significance $\\alpha$\n",
    "* 常用0.05 (95% percentile) 或0.01\n",
    "* raw score and standard score $Z$（不知道怎么定义的）\n",
    "* 对 two-tailed test, $\\alpha=5\\%$ 要分成左右两部分(two critical regions)，标志着0-2.5%和97.5%-1的部分。"
   ]
  },
  {
   "cell_type": "markdown",
   "metadata": {},
   "source": [
    "## Step 3. Determine the sample size needed and gather data\n",
    "最重要的一步，取决于：\n",
    "* How big a difference you wish to test\n",
    "* Type of test\n",
    "* Level of significance to use\n",
    "* Required power of the test <br>\n",
    "注意，size太小不好；但也不是越大越好，一是浪费时间资源，二是reject $H_0$ for small differernces of no practical or clinical significant (可能由于$n$很大，SE算下来很小，待补)\n",
    "\n",
    "<img src=\"Pics/HypothesisTest-1.png\" width=\"80%\">\n",
    "\n",
    "### Power of test: \n",
    "* Probability of rejecting $H_0$ when $H_0$, i.e. the Diff you wish to detect really exists.\n",
    "* 需要power越大，size要越大\n",
    "\n",
    "### Estimate by effect size (Diff/SD):\n",
    "0.2 = small <br>\n",
    "0.5 = moderate <br>\n",
    "0.8 = large"
   ]
  },
  {
   "cell_type": "markdown",
   "metadata": {},
   "source": [
    "## Step 4. Compute samples and test statistics\n",
    "\n",
    "若知道population standard deviation, 用它来算$Z$;\n",
    "否则用**t test**, n-1 d.f..\n",
    "\n",
    "Compute sample statistics:\n",
    "* Sample mean\n",
    "* Sample standard deviation (if $\\sigma$ is unknown)\n",
    "* Standard error\n",
    "\n",
    "Compute test statistics ($Z_s$ or $t_s$):\n",
    "$\\frac{\\mathrm{Sample\\ Mean} - \\mathrm{Population\\ Mean}(H_0)}{\\mathrm{Std\\ Error}}$\n",
    "<img src=\"Pics/HypothesisTest-2.png\" width=\"50%\">\n",
    "\n"
   ]
  },
  {
   "cell_type": "markdown",
   "metadata": {},
   "source": [
    "## Step 5. Compute P value\n",
    "* Treat P value as Probability that $H_0$ is true. <br>\n",
    "P value large => Prob $H_0$ is true is high => Accept H_0\n",
    "P value small => Prob $H_0$ is true is low => Reject H_0\n",
    "* Compute P, need to know: type of test, test statistics $Z$ (or $t$&d.f.)\n",
    "* For two-tailed test, need to consider two critical regions as above, $2 \\times$area....\n"
   ]
  },
  {
   "cell_type": "markdown",
   "metadata": {},
   "source": [
    "## Step 6. Make decision or conclusion\n",
    "### Method 1: Use Critical Region and Test Statistics\n",
    "Test stat (Z or t) fall in critical region => Reject $H_0$\n",
    "\n",
    "### Method 2: Use P value and Level of Significance $\\alpha$.\n",
    "**Small** (reject $H_0$): P value $\\le$ Level of significance $\\alpha$.\n",
    "\n",
    "* Conclusions are the same for 2 methods.\n",
    "* Conclusions affected by type of test.\n",
    "* Conclusions affected by $\\alpha$ selected."
   ]
  },
  {
   "cell_type": "markdown",
   "metadata": {},
   "source": [
    "## Error in Hypothesis Testing\n",
    "### Two possible errors:\n",
    "* $H_0$ is TRUE but conclusion Reject.\n",
    "* $H_0$ is FALSE but conclusion Accept\n",
    "<img src=\"Pics/HypothesisTest-3.png\" width=\"80%\">\n",
    "\n",
    "\n"
   ]
  },
  {
   "cell_type": "markdown",
   "metadata": {},
   "source": []
  }
 ],
 "metadata": {
  "kernelspec": {
   "display_name": "Python 3",
   "language": "python",
   "name": "python3"
  },
  "language_info": {
   "codemirror_mode": {
    "name": "ipython",
    "version": 3
   },
   "file_extension": ".py",
   "mimetype": "text/x-python",
   "name": "python",
   "nbconvert_exporter": "python",
   "pygments_lexer": "ipython3",
   "version": "3.6.1"
  }
 },
 "nbformat": 4,
 "nbformat_minor": 2
}
