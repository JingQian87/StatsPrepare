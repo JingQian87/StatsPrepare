{
 "cells": [
  {
   "cell_type": "markdown",
   "metadata": {},
   "source": [
    "# Basic Stats Terms & Concepts\n",
    "\n",
    "## Covers:\n",
    "* Population, objective characteristics and data, population parameters\n",
    "* Samples and sample stats\n",
    "* Descriptive and inferential stats\n",
    "* Can stats be trusted and pitfalls\n",
    "* Representative samples\n",
    "* Random and stratified random sampling"
   ]
  },
  {
   "cell_type": "markdown",
   "metadata": {},
   "source": [
    "## 1. Populations\n",
    "* **Def**: entire collection of objects\n",
    "* Census\n",
    "* **Characteristics** -- 感兴趣的性质, 对应的值是data\n",
    "* **Parameters**: Summary of population data\n",
    "  1. Size $N$\n",
    "  2. Mean $\\mu$\n",
    "  3. Variance: $\\sigma^2 = \\frac{\\sum(x-\\mu)^2}{N}$\n",
    "  4. Standard deviation: $\\sigma$\n",
    "  5. Proportion: $p$ <br>\n",
    "**Have one true value each, could be estimated by sample value*. "
   ]
  },
  {
   "cell_type": "markdown",
   "metadata": {},
   "source": [
    "## 2. Samples\n",
    "* **Def**: subset of population\n",
    "* **Statistics**: summaries of sample data:\n",
    "  1. Size: $n$\n",
    "  2. Mean: $\\mu$\n",
    "  3. Variance: $s^2 = \\frac{\\sum(x-\\mu)^2}{n-1}$\n",
    "  4. Standard deviation: $s$\n",
    "  5. Proportion: $\\hat{p}$ <br>\n",
    "**Different samples may give different statistics.*"
   ]
  },
  {
   "cell_type": "markdown",
   "metadata": {},
   "source": [
    "## 3. Descriptive and inferential stats\n",
    "\n",
    "### Descriptive:\n",
    "* **Central tendency**: mean, median, mode\n",
    "* **Dispersion**: spread from min to max values\n",
    "* **Distribution**: shape of the spread (symmetrial, skewed, bell-shaped, flat, peaked)\n",
    "\n",
    "### Inferential:\n",
    "* Estimate population **parameters**\n",
    "* Compare **siginificant differences** between two or more poplutions (比如给了一堆人的数据，从中比较男的和女的是否有显著差异)\n",
    "* **Test for relationship** between variables to make predictions (correlation, regression, etc)\n",
    "\n"
   ]
  },
  {
   "cell_type": "markdown",
   "metadata": {},
   "source": [
    "## 4. Can stats be trusted and pitfalls\n",
    "* Intentional: Manipulate data, personal gain.\n",
    "* Unintentional: Inappropriate data collection methods, poor questionnaries, non-representative or biased samples, etc\n"
   ]
  },
  {
   "cell_type": "markdown",
   "metadata": {},
   "source": [
    "## 5. Representative samples\n",
    "* How the sample is drawn -> Random\n",
    "* The sample size -> Larger"
   ]
  },
  {
   "cell_type": "markdown",
   "metadata": {},
   "source": [
    "## 6. Random and stratified random sampling\n",
    "### Random sample:\n",
    "* Each memeber of the population has an *equal chance* of being included in the sample.\n",
    "* Every *possible combination of n members* from the population has an equal chance of being selected. $N\\choose n$ different possible combinations.\n",
    "\n",
    "### Stratified random sample:\n",
    "In theory, a random sample is *unbiased* and should have *proportional representation* for each group or stratum.\n",
    "\n",
    "比如，若population有一半男一半女，直接的random sample可能并不能反映这一性质，特别当样本数量不够大时。这时候就可以使用stratified random sampling technique，保证每个group/stratum有对应的表示，draw random sample from each group according to proportion using simple random sampling technique."
   ]
  },
  {
   "cell_type": "markdown",
   "metadata": {},
   "source": [
    "## 7. Other\n",
    "### Variables\n",
    "Dependent, independent, *extraneous* variables.\n",
    "Extraneous variables, dependent, 但与研究无关。\n",
    "\n",
    "### Reserach Methods\n",
    "* Descriptive methods: related, cannot determine cause-and-effect\n",
    "* Experimental Methods (to show cause-and-effect)\n",
    "    1. Random selection.\n",
    "    2. manipulate levels (即groups) of independent variables (IV)\n",
    "    3. Random assignment to different levels of IV\n",
    "    4. Control extraneous variables."
   ]
  }
 ],
 "metadata": {
  "kernelspec": {
   "display_name": "Python 3",
   "language": "python",
   "name": "python3"
  },
  "language_info": {
   "codemirror_mode": {
    "name": "ipython",
    "version": 3
   },
   "file_extension": ".py",
   "mimetype": "text/x-python",
   "name": "python",
   "nbconvert_exporter": "python",
   "pygments_lexer": "ipython3",
   "version": "3.6.1"
  }
 },
 "nbformat": 4,
 "nbformat_minor": 2
}
